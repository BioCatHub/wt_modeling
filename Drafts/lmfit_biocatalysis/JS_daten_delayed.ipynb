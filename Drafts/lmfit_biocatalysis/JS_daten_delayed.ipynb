{
 "cells": [
  {
   "cell_type": "code",
   "execution_count": 31,
   "metadata": {},
   "outputs": [
    {
     "name": "stdout",
     "output_type": "stream",
     "text": [
      "   T [min]     Butanal   butyroin  4,5-octanediol\n",
      "0        0  235.403070   0.000000             0.0\n",
      "1       15  136.667003  35.135764             0.0\n",
      "2       30   78.775571  59.773672             0.0\n",
      "3       60   39.501736  80.610846             0.0\n",
      "4      140   15.373700  85.416647             0.0\n",
      "0       0\n",
      "1      15\n",
      "2      30\n",
      "3      60\n",
      "4     140\n",
      "5     155\n",
      "6     170\n",
      "7     203\n",
      "8     440\n",
      "9    1440\n",
      "Name: T [min], dtype: int64\n"
     ]
    },
    {
     "data": {
      "text/plain": [
       "<matplotlib.legend.Legend at 0x1873b702b88>"
      ]
     },
     "execution_count": 31,
     "metadata": {},
     "output_type": "execute_result"
    },
    {
     "data": {
      "image/png": "[encoded data removed]",
      "text/plain": [
       "<Figure size 432x288 with 1 Axes>"
      ]
     },
     "metadata": {
      "needs_background": "light"
     },
     "output_type": "display_data"
    }
   ],
   "source": [
    "from scipy.integrate import odeint\n",
    "import pandas as pd\n",
    "import matplotlib.pyplot as plt\n",
    "import numpy as np\n",
    "import lmfit\n",
    "\n",
    "df = pd.read_excel(r\"4,5-ODO Upscaling.xlsx\")\n",
    "\n",
    "print(df.head())\n",
    "\n",
    "\n",
    "time = df[\"T [min]\"]\n",
    "substrate = df[\"Butanal\"]\n",
    "product = df[\"butyroin\"]\n",
    "product2 = df[\"4,5-octanediol\"]\n",
    "\n",
    "print(time)\n",
    "\n",
    "fix, ax = plt.subplots()\n",
    "\n",
    "ax.plot(time, substrate, label=\"bunatal measured\", color=\"red\", linestyle=\"-\", marker=\"o\")\n",
    "ax.plot(time, product, label=\"butyroin measured\", color=\"blue\", linestyle=\"-\", marker=\"o\")\n",
    "ax.plot(time, product2, label=\"doppelalkohol measured\", color=\"green\", linestyle=\"-\", marker=\"o\")\n",
    "ax.legend()\n",
    "\n",
    "#plt.show()"
   ]
  },
  {
   "cell_type": "code",
   "execution_count": 30,
   "metadata": {},
   "outputs": [
    {
     "name": "stdout",
     "output_type": "stream",
     "text": [
      "[[Fit Statistics]]\n",
      "    # fitting method   = leastsq\n",
      "    # function evals   = 41\n",
      "    # data points      = 10\n",
      "    # variables        = 2\n",
      "    chi-square         = 1430.44419\n",
      "    reduced chi-square = 178.805523\n",
      "    Akaike info crit   = 53.6315520\n",
      "    Bayesian info crit = 54.2367222\n",
      "[[Variables]]\n",
      "    kA:  2.5017e-04 +/- 3.5751e-05 (14.29%) (init = 2)\n",
      "    kP:  0.00176413 +/- 0.00164727 (93.38%) (init = 2)\n",
      "[[Correlations]] (unreported correlations are < 0.100)\n",
      "    C(kA, kP) = 0.424\n",
      "None\n",
      "[240.         132.40040575  88.93740923  57.64848907  36.20833223]\n",
      "[ 0.         53.2604875  73.74239082 86.45255071 88.62438787]\n"
     ]
    },
    {
     "data": {
      "image/png": "[encoded data removed]",
      "text/plain": [
       "<Figure size 432x288 with 1 Axes>"
      ]
     },
     "metadata": {
      "needs_background": "light"
     },
     "output_type": "display_data"
    }
   ],
   "source": [
    "init_cond_reduced = [240,0]\n",
    "\n",
    "time_reduced = [0, 14, 30, 60, 140]\n",
    "substrate_reduced = np.array(substrate[0:5])\n",
    "product_reduced = np.array(product[0:5])\n",
    "data_list_reduced = [substrate_reduced, product_reduced]\n",
    "data_reduced = np.array(data_list_reduced)\n",
    "\n",
    "def dglsys(init_cond_array, t, kA, kB):\n",
    "    A = init_cond_array[0]\n",
    "    P = init_cond_array[1]\n",
    "    dAdt = -kA*A**2 + kB*P\n",
    "    dBdt = (kA*A**2)*0.5 - kB*P\n",
    "    dZdt = np.array([dAdt, dBdt])\n",
    "    return dZdt\n",
    "\n",
    "sol = odeint(dglsys, init_cond_reduced, time_reduced, args=(0.000245, 0.0024))\n",
    "\n",
    "fig, ax = plt.subplots()\n",
    "ax.plot(time_reduced, substrate_reduced, label=\"bunatal measured\", color=\"red\", linestyle=\"\", marker=\"o\")\n",
    "ax.plot(time_reduced, product_reduced, label=\"butyroin measured\", color=\"blue\", linestyle=\"\", marker=\"o\")\n",
    "\n",
    "params = lmfit.Parameters()\n",
    "params.add('kA', 2, min=0.00000001, max=3)\n",
    "params.add('kP', 2, min=0.0000000001, max=3)\n",
    "\n",
    "def residual(params, time, data_sets):\n",
    "    kA = params['kA'].value\n",
    "    kP = params['kP'].value\n",
    "    \n",
    "    ymodel = odeint(dglsys, init_cond_reduced, time_reduced, args=(kA, kP))\n",
    "    substr_red = data_reduced[0]-ymodel[:,0] # array 1\n",
    "    product_red = data_reduced[1]-ymodel[:,1] # array 2\n",
    "    result = [substr_red, product_red] # result is returned as array\n",
    "    return np.array(result)\n",
    "\n",
    "solution = lmfit.minimize(residual, params, args=(time_reduced, data_reduced))\n",
    "print(lmfit.report_fit(solution))\n",
    "\n",
    "\n",
    "ax.plot(time_reduced, sol[:,0], label=\"bunatal modelled\", linestyle=\"--\", color=\"red\")\n",
    "ax.plot(time_reduced, sol[:,1], label=\"butyroin modelled\", linestyle=\"--\", color = \"blue\")\n",
    "\n",
    "\n",
    "print(sol[:,0])\n",
    "print(sol[:,1])"
   ]
  },
  {
   "cell_type": "code",
   "execution_count": 34,
   "metadata": {},
   "outputs": [
    {
     "name": "stdout",
     "output_type": "stream",
     "text": [
      "[array([15.13829237, 14.49406891, 13.84240584, 12.42792802,  9.91667821]), array([78.41427103, 72.13699274, 67.0658672 , 57.60108041, 50.92454335]), array([ 6.78494113, 11.32583558, 17.78875041, 30.07338747, 36.26918197])]\n"
     ]
    },
    {
     "data": {
      "text/plain": [
       "'\\n\\ndef dglsys(init_cond_array, t, kA, kB):\\n    A = init_cond_array[0]\\n    P = init_cond_array[1]\\n    dAdt = -kA*A**2 + kB*P\\n    dBdt = (kA*A**2)*0.5 - kB*P\\n    dZdt = np.array([dAdt, dBdt])\\n    return dZdt\\n\\nsol = odeint(dglsys, init_cond_reduced, time_reduced, args=(0.000245, 0.0024))\\n\\nfig, ax = plt.subplots()\\nax.plot(time_reduced, substrate_reduced, label=\"bunatal measured\", color=\"red\", linestyle=\"\", marker=\"o\")\\nax.plot(time_reduced, product_reduced, label=\"butyroin measured\", color=\"blue\", linestyle=\"\", marker=\"o\")\\n\\nparams = lmfit.Parameters()\\nparams.add(\\'kA\\', 2, min=0.00000001, max=3)\\nparams.add(\\'kP\\', 2, min=0.0000000001, max=3)\\n\\ndef residual(params, time, data_sets):\\n    kA = params[\\'kA\\'].value\\n    kP = params[\\'kP\\'].value\\n    \\n    ymodel = odeint(dglsys, init_cond_reduced, time_reduced, args=(kA, kP))\\n    substr_red = data_reduced[0]-ymodel[:,0] # array 1\\n    product_red = data_reduced[1]-ymodel[:,1] # array 2\\n    result = [substr_red, product_red] # result is returned as array\\n    return np.array(result)\\n\\nsolution = lmfit.minimize(residual, params, args=(time_reduced, data_reduced))\\nprint(lmfit.report_fit(solution))\\n\\n\\nax.plot(time_reduced, sol[:,0], label=\"bunatal modelled\", linestyle=\"--\", color=\"red\")\\nax.plot(time_reduced, sol[:,1], label=\"butyroin modelled\", linestyle=\"--\", color = \"blue\")\\n\\n\\nprint(time_reduced)\\nprint(substrate_reduced)\\nprint(product_reduced)\\n\\n'"
      ]
     },
     "execution_count": 34,
     "metadata": {},
     "output_type": "execute_result"
    }
   ],
   "source": [
    "# Extenden Model\n",
    "\n",
    "\n",
    "time_reduced = [155, 170, 203, 440, 1440]\n",
    "substrate_extended = np.array(substrate[5:])\n",
    "product_extended = np.array(product[5:])\n",
    "product2_extended = np.array(product2[5:])\n",
    "data_list_extended = [substrate_extended, product_extended, product2_extended]\n",
    "data_extended = np.array(data_list_reduced)\n",
    "\n",
    "print(data_list_extended)\n",
    "\n",
    "'''\n",
    "\n",
    "def dglsys(init_cond_array, t, kA, kB):\n",
    "    A = init_cond_array[0]\n",
    "    P = init_cond_array[1]\n",
    "    dAdt = -kA*A**2 + kB*P\n",
    "    dBdt = (kA*A**2)*0.5 - kB*P\n",
    "    dZdt = np.array([dAdt, dBdt])\n",
    "    return dZdt\n",
    "\n",
    "sol = odeint(dglsys, init_cond_reduced, time_reduced, args=(0.000245, 0.0024))\n",
    "\n",
    "fig, ax = plt.subplots()\n",
    "ax.plot(time_reduced, substrate_reduced, label=\"bunatal measured\", color=\"red\", linestyle=\"\", marker=\"o\")\n",
    "ax.plot(time_reduced, product_reduced, label=\"butyroin measured\", color=\"blue\", linestyle=\"\", marker=\"o\")\n",
    "\n",
    "params = lmfit.Parameters()\n",
    "params.add('kA', 2, min=0.00000001, max=3)\n",
    "params.add('kP', 2, min=0.0000000001, max=3)\n",
    "\n",
    "def residual(params, time, data_sets):\n",
    "    kA = params['kA'].value\n",
    "    kP = params['kP'].value\n",
    "    \n",
    "    ymodel = odeint(dglsys, init_cond_reduced, time_reduced, args=(kA, kP))\n",
    "    substr_red = data_reduced[0]-ymodel[:,0] # array 1\n",
    "    product_red = data_reduced[1]-ymodel[:,1] # array 2\n",
    "    result = [substr_red, product_red] # result is returned as array\n",
    "    return np.array(result)\n",
    "\n",
    "solution = lmfit.minimize(residual, params, args=(time_reduced, data_reduced))\n",
    "print(lmfit.report_fit(solution))\n",
    "\n",
    "\n",
    "ax.plot(time_reduced, sol[:,0], label=\"bunatal modelled\", linestyle=\"--\", color=\"red\")\n",
    "ax.plot(time_reduced, sol[:,1], label=\"butyroin modelled\", linestyle=\"--\", color = \"blue\")\n",
    "\n",
    "\n",
    "print(time_reduced)\n",
    "print(substrate_reduced)\n",
    "print(product_reduced)\n",
    "\n",
    "'''"
   ]
  },
  {
   "cell_type": "code",
   "execution_count": 2,
   "metadata": {},
   "outputs": [
    {
     "name": "stdout",
     "output_type": "stream",
     "text": [
      "[[235.40306997 136.66700304  78.77557135  39.50173584  15.37370005\n",
      "   15.13829237  14.49406891  13.84240584  12.42792802   9.91667821]\n",
      " [  0.          35.13576358  59.77367168  80.61084579  85.41664722\n",
      "   78.41427103  72.13699274  67.0658672   57.60108041  50.92454335]\n",
      " [  0.           0.           0.           0.           0.\n",
      "    6.78494113  11.32583558  17.78875041  30.07338747  36.26918197]]\n",
      "[240, 0, 0]\n",
      "[[Fit Statistics]]\n",
      "    # fitting method   = leastsq\n",
      "    # function evals   = 96\n",
      "    # data points      = 30\n",
      "    # variables        = 5\n",
      "    chi-square         = 3730.83814\n",
      "    reduced chi-square = 149.233525\n",
      "    Akaike info crit   = 154.695724\n",
      "    Bayesian info crit = 161.701711\n",
      "[[Variables]]\n",
      "    kA:   2.6850e-04 +/- 3.1903e-05 (11.88%) (init = 2)\n",
      "    kP:   0.00109254 +/- 3.8332e-04 (35.09%) (init = 2)\n",
      "    kC:   1.71596831 +/- 3.88285002 (226.28%) (init = 2)\n",
      "    kD:   0.51954958 +/- 0.72761890 (140.05%) (init = 2)\n",
      "    lag:  0.06955476 +/- 0.08004113 (115.08%) (init = 2)\n",
      "[[Correlations]] (unreported correlations are < 0.100)\n",
      "    C(kC, kD)  = 0.929\n",
      "    C(kC, lag) = -0.876\n",
      "    C(kD, lag) = -0.650\n",
      "    C(kP, lag) = -0.463\n",
      "    C(kP, kC)  = 0.393\n",
      "    C(kP, kD)  = 0.294\n",
      "    C(kA, kP)  = 0.157\n",
      "None\n"
     ]
    },
    {
     "data": {
      "image/png": "[encoded data removed]",
      "text/plain": [
       "<Figure size 432x288 with 1 Axes>"
      ]
     },
     "metadata": {
      "needs_background": "light"
     },
     "output_type": "display_data"
    }
   ],
   "source": [
    "\n",
    "data_list = [substrate, product, product2]\n",
    "\n",
    "data = np.array(data_list)\n",
    "\n",
    "print(data)\n",
    "\n",
    "\n",
    "y0_array = [240, 0, 0]\n",
    "print(y0_array)\n",
    "\n",
    "def dglsys(init_cond_array, t, kA, kB, kC, kD, lag):\n",
    "    A = init_cond_array[0]\n",
    "    P = init_cond_array[1]\n",
    "    C = init_cond_array[2]\n",
    "    dAdt = -kA*A**2 + kB*P\n",
    "    dBdt = (kA*A**2)*0.5 - kB*P - lag*kC*P + kD*C\n",
    "    dCdt = lag*kC*P - kD*C\n",
    "    dZdt = np.array([dAdt, dBdt, dCdt])\n",
    "    return dZdt\n",
    "\n",
    "sol = odeint(dglsys, y0_array, time, args=(0.00027, 0.002, 0.68, 2.9, 4))\n",
    "\n",
    "\n",
    "\n",
    "params = lmfit.Parameters()\n",
    "params.add('kA', 2, min=0.00000001, max=3)\n",
    "params.add('kP', 2, min=0.0000000001, max=3)\n",
    "params.add('kC', 2, min=0.0000000001, max=3)\n",
    "params.add('kD', 2, min=0.0000000001, max=3)\n",
    "params.add('lag', 2, min=0.0001, max=10)\n",
    "\n",
    "def residual(params, time, data_sets):\n",
    "    kA = params['kA'].value\n",
    "    kP = params['kP'].value\n",
    "    kC = params['kC'].value\n",
    "    kD = params['kD'].value\n",
    "    lag = params['lag'].value\n",
    "    \n",
    "    ymodel=odeint(dglsys, y0_array, time, args=(kA, kP, kC, kD, lag))\n",
    "    substr = data_sets[0]-ymodel[:,0] # array 1\n",
    "    product = data_sets[1]-ymodel[:,1] # array 2\n",
    "    product2 = data_sets[2]-ymodel[:,2]\n",
    "    result = [substr, product, product2] # result is returned as array\n",
    "    return np.array(result)\n",
    "\n",
    "solution = lmfit.minimize(residual, params, args=(np.array(time), data))\n",
    "print(lmfit.report_fit(solution))\n",
    "\n",
    "\n",
    "fig, ax = plt.subplots()\n",
    "ax.plot(time, substrate, label=\"bunatal measured\", color=\"red\", linestyle=\"\", marker=\"o\")\n",
    "ax.plot(time, product, label=\"butyroin measured\", color=\"blue\", linestyle=\"\", marker=\"o\")\n",
    "ax.plot(time, product2, label=\"doppelalkohol measured\", color=\"green\", linestyle=\"\", marker=\"o\")\n",
    "\n",
    "ax.plot(time, sol[:,2], label=\"doppelalkohol modelled\", linestyle=\"--\", color=\"green\")\n",
    "ax.plot(time, sol[:,0], label=\"bunatal modelled\", linestyle=\"--\", color=\"red\")\n",
    "ax.plot(time, sol[:,1], label=\"butyroin modelled\", linestyle=\"--\", color = \"blue\")\n",
    "\n",
    "\n",
    "ax.legend()\n",
    "plt.savefig(\"testfig.svg\", format=\"svg\")"
   ]
  }
 ],
 "metadata": {
  "interpreter": {
   "hash": "9a890e145f42cd0e8c47508bee355e416a62bf87304227e51e7e6d4aeaeddb19"
  },
  "kernelspec": {
   "display_name": "Python 3.7.12 ('base')",
   "language": "python",
   "name": "python3"
  },
  "language_info": {
   "codemirror_mode": {
    "name": "ipython",
    "version": 3
   },
   "file_extension": ".py",
   "mimetype": "text/x-python",
   "name": "python",
   "nbconvert_exporter": "python",
   "pygments_lexer": "ipython3",
   "version": "3.7.12"
  },
  "orig_nbformat": 4
 },
 "nbformat": 4,
 "nbformat_minor": 2
}
