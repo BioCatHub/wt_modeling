{
 "cells": [
  {
   "cell_type": "markdown",
   "metadata": {},
   "source": [
    "# Solving differential equations system \n",
    "\n",
    "To solve differential equation system it is again nessecary to perform the following workflow:\n",
    "\n",
    "1. Define Models\n",
    "2. Create residual function\n",
    "3. Find the optimal constants using lmfit\n",
    "\n",
    "\n",
    "## Step 1 defining the models\n",
    "\n",
    "The basic procedure is the same, but there are differences:\n",
    "\n",
    "- The initial conditions (**y0_array**) are defined as array and NOT as scalar\n",
    "- There are two differential equations defined and **returned** as array\n",
    "\n",
    "```\n",
    "y0_array = [100,0]\n",
    "\n",
    "def dglsys(init_cond_array, t,A0, kA, kB):\n",
    "    A = init_cond_array[0]\n",
    "    P = init_cond_array[1]\n",
    "    dAdt = -kA*A\n",
    "    dPdt = kB*(A0-(A0-A))\n",
    "    dzdt = [dAdt, dPdt]\n",
    "    return dzdt\n",
    "\n",
    "```\n",
    "\n",
    "## Step 2 defining the residual function\n",
    "\n",
    "The residual function calculates the difference between the measured and the modelled values. Of course we need to create the `lmfit.Parameters()` object with the to be determined constants In the case of a **dgl-system** we will receive an array of integrated values and therefore need to also compare arrays with one another:\n",
    "\n",
    "```\n",
    "params = lmfit.Parameters()\n",
    "params.add('kA', 2, min=0.00000001, max=3)\n",
    "params.add('kP', 2, min=0.0000000001, max=3)\n",
    "\n",
    "def residual(params, time, data_sets):\n",
    "    kA = params['kA'].value\n",
    "    kP = params['kP'].value\n",
    "    ymodel=odeint(dglsys, y0_array, time, args=(100, kA, kP))\n",
    "    substr = data_sets[0]-ymodel[:,0] # array 1\n",
    "    product = data_sets[1]-ymodel[:,1] # array 2\n",
    "    result = [substr, product] # result is returned as array\n",
    "    return np.array(result)\n",
    "\n",
    "```\n",
    "\n",
    "3. Find the optimal constants using lmfit-minimize\n",
    "\n",
    "And finally we can fit the constants by the minimize function of lmfit:\n",
    "\n",
    "- In this case the data array will consist of two columns since we have to fit two different parameters\n",
    "\n",
    "`solution = lmfit.minimize(residual, params, args=(np.array(time), data))`\n",
    "\n",
    "\n",
    "\n"
   ]
  },
  {
   "cell_type": "code",
   "execution_count": 60,
   "metadata": {},
   "outputs": [
    {
     "name": "stdout",
     "output_type": "stream",
     "text": [
      "   Zeit  Substratkonzentration k1  Produktkonzentration k1  \\\n",
      "0     0                100.000000                 0.000000   \n",
      "1     1                 81.873075                18.126925   \n",
      "2     2                 67.032005                32.967995   \n",
      "3     3                 54.881164                45.118836   \n",
      "4     4                 44.932896                55.067104   \n",
      "\n",
      "   Substratkonzentration k2  Substratkonzentration k2.1  Unnamed: 5  \\\n",
      "0                100.000000                  100.000000         NaN   \n",
      "1                 90.483742                   95.122942         NaN   \n",
      "2                 81.873075                   90.483742         NaN   \n",
      "3                 74.081822                   86.070798         NaN   \n",
      "4                 67.032005                   81.873075         NaN   \n",
      "\n",
      "  Unnamed: 6  Unnamed: 7 Unnamed: 8  \n",
      "0         a0      100.00     mmol/L  \n",
      "1         k1        0.20        NaN  \n",
      "2         k2        0.10        NaN  \n",
      "3         k3        0.05        NaN  \n",
      "4        NaN         NaN        NaN  \n"
     ]
    },
    {
     "data": {
      "image/png": "[encoded data removed]",
      "text/plain": [
       "<Figure size 432x288 with 1 Axes>"
      ]
     },
     "metadata": {
      "needs_background": "light"
     },
     "output_type": "display_data"
    }
   ],
   "source": [
    "from scipy.integrate import odeint\n",
    "import pandas as pd\n",
    "import matplotlib.pyplot as plt\n",
    "import numpy as np\n",
    "import lmfit\n",
    "\n",
    "df = pd.read_excel(r\"reaktionen 1 2 ordnung.xlsx\")\n",
    "\n",
    "print(df.head())\n",
    "\n",
    "\n",
    "time = df[\"Zeit\"]\n",
    "substrate = df[\"Substratkonzentration k1\"]\n",
    "product = df[\"Produktkonzentration k1\"]\n",
    "\n",
    "\n",
    "fix, ax = plt.subplots()\n",
    "\n",
    "ax.plot(time, substrate, label=\"Substrate concentration\")\n",
    "ax.plot(time, product, label=\"product concentration\")\n",
    "#ax.legend()\n",
    "\n",
    "#plt.show()"
   ]
  },
  {
   "cell_type": "code",
   "execution_count": 83,
   "metadata": {},
   "outputs": [
    {
     "name": "stdout",
     "output_type": "stream",
     "text": [
      "(1, 26)\n",
      "[[Fit Statistics]]\n",
      "    # fitting method   = leastsq\n",
      "    # function evals   = 27\n",
      "    # data points      = 52\n",
      "    # variables        = 2\n",
      "    chi-square         = 6.1578e-14\n",
      "    reduced chi-square = 1.2316e-15\n",
      "    Akaike info crit   = -1783.22551\n",
      "    Bayesian info crit = -1779.32303\n",
      "[[Variables]]\n",
      "    kA:  0.20000000 +/- 5.2456e-11 (0.00%) (init = 2)\n",
      "    kP:  0.20000000 +/- 4.5226e-11 (0.00%) (init = 2)\n",
      "[[Correlations]] (unreported correlations are < 0.100)\n",
      "    C(kA, kP) = 0.931\n",
      "None\n"
     ]
    },
    {
     "data": {
      "image/png": "[encoded data removed]",
      "text/plain": [
       "<Figure size 432x288 with 1 Axes>"
      ]
     },
     "metadata": {
      "needs_background": "light"
     },
     "output_type": "display_data"
    }
   ],
   "source": [
    "# Definition of DGL system\n",
    "# A = Initial conditions\n",
    "# t = time or x-values\n",
    "# kA = Constant A\n",
    "# kB = Constant B\n",
    "y0 = 100\n",
    "\n",
    "\n",
    "\n",
    "data_list = [substrate, product]\n",
    "\n",
    "data = np.array(data_list)\n",
    "\n",
    "\n",
    "\n",
    "y0_array = [100,0]\n",
    "\n",
    "def dglsys(init_cond_array, t,A0, kA, kB):\n",
    "    A = init_cond_array[0]\n",
    "    P = init_cond_array[1]\n",
    "    dAdt = -kA*A\n",
    "    dPdt = kB*(A0-(A0-A))\n",
    "    dzdt = [dAdt, dPdt]\n",
    "    return dzdt\n",
    "\n",
    "sol = odeint(dglsys, y0_array, time, args=(100,0.2, 0.2))\n",
    "#print(sol)\n",
    "print(np.array([time]).shape)\n",
    "#print(data[0])\n",
    "\n",
    "\n",
    "params = lmfit.Parameters()\n",
    "params.add('kA', 2, min=0.00000001, max=3)\n",
    "params.add('kP', 2, min=0.0000000001, max=3)\n",
    "\n",
    "def residual(params, time, data_sets):\n",
    "    kA = params['kA'].value\n",
    "    kP = params['kP'].value\n",
    "    ymodel=odeint(dglsys, y0_array, time, args=(100, kA, kP))\n",
    "    substr = data_sets[0]-ymodel[:,0] # array 1\n",
    "    product = data_sets[1]-ymodel[:,1] # array 2\n",
    "    result = [substr, product] # result is returned as array\n",
    "    return np.array(result)\n",
    "\n",
    "solution = lmfit.minimize(residual, params, args=(np.array(time), data))\n",
    "print(lmfit.report_fit(solution))\n",
    "\n",
    "\n",
    "fig, ax = plt.subplots()\n",
    "ax.plot(time, substrate, label=\"Substrate concentration\", color=\"red\")\n",
    "ax.plot(time, sol[:,1], label=\"modelled\")\n",
    "ax.plot(time, sol[:,0], label=\"modelled substrate\")\n",
    "ax.legend()\n",
    "\n",
    "plt.show()"
   ]
  }
 ],
 "metadata": {
  "interpreter": {
   "hash": "9a890e145f42cd0e8c47508bee355e416a62bf87304227e51e7e6d4aeaeddb19"
  },
  "kernelspec": {
   "display_name": "Python 3.7.12 ('base')",
   "language": "python",
   "name": "python3"
  },
  "language_info": {
   "codemirror_mode": {
    "name": "ipython",
    "version": 3
   },
   "file_extension": ".py",
   "mimetype": "text/x-python",
   "name": "python",
   "nbconvert_exporter": "python",
   "pygments_lexer": "ipython3",
   "version": "3.7.12"
  },
  "orig_nbformat": 4
 },
 "nbformat": 4,
 "nbformat_minor": 2
}
