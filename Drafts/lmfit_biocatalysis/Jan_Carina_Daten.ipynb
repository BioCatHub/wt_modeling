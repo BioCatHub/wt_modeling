{
 "cells": [
  {
   "cell_type": "markdown",
   "metadata": {},
   "source": [
    "# Data sets Carian and Jan"
   ]
  },
  {
   "cell_type": "code",
   "execution_count": 3,
   "metadata": {},
   "outputs": [
    {
     "name": "stdout",
     "output_type": "stream",
     "text": [
      "   Zeit  Butanal-200  Butyroin-200  Octandiol-200  Butanal-400  Butyroin-400  \\\n",
      "0     0    96.594128      0.146979       0.087363   132.846287      0.146979   \n",
      "1    15    59.927461     44.956117       0.087363    37.146805     42.250977   \n",
      "2    30    32.483592     52.241960       1.252210    22.656304     46.116321   \n",
      "3    60    14.210708     50.035768       2.770671    11.930915     44.421100   \n",
      "4   120    11.326425     68.722272       6.494020     4.953368     42.317102   \n",
      "\n",
      "   Octandiol-400  \n",
      "0       0.087363  \n",
      "1       2.937077  \n",
      "2       3.623505  \n",
      "3      10.799792  \n",
      "4      16.083203  \n",
      "0       0\n",
      "1      15\n",
      "2      30\n",
      "3      60\n",
      "4     120\n",
      "5     260\n",
      "6     360\n",
      "7    1440\n",
      "Name: Zeit, dtype: int64\n"
     ]
    },
    {
     "data": {
      "image/png": "[encoded data removed]",
      "text/plain": [
       "<Figure size 432x288 with 1 Axes>"
      ]
     },
     "metadata": {
      "needs_background": "light"
     },
     "output_type": "display_data"
    }
   ],
   "source": [
    "from scipy.integrate import odeint\n",
    "import pandas as pd\n",
    "import matplotlib.pyplot as plt\n",
    "import numpy as np\n",
    "import lmfit\n",
    "\n",
    "df = pd.read_excel(r\"Jan_Carina_Daten.xlsx\")\n",
    "\n",
    "print(df.head())\n",
    "\n",
    "butanal = df[\"Butanal-200\"]\n",
    "butyroin = df[\"Butyroin-200\"]\n",
    "octandiol = df[\"Octandiol-200\"]\n",
    "\n",
    "time = df[\"Zeit\"]\n",
    "\n",
    "print(time)\n",
    "\n",
    "fix, ax = plt.subplots()\n",
    "\n",
    "ax.plot(time, butanal, label=\"bunatal measured\", color=\"red\", linestyle=\"-\", marker=\"o\")\n",
    "ax.plot(time, butyroin, label=\"butyroin measured\", color=\"blue\", linestyle=\"-\", marker=\"o\")\n",
    "ax.plot(time, octandiol, label=\"doppelalkohol measured\", color=\"green\", linestyle=\"-\", marker=\"o\")\n",
    "ax.legend()\n",
    "plt.plot()\n",
    "plt.show()\n"
   ]
  }
 ],
 "metadata": {
  "interpreter": {
   "hash": "cc033ebe99e405e33a4a383e14ae1664bf67e0ee711f463ee69b81dbdcfa5b78"
  },
  "kernelspec": {
   "display_name": "Python 3.7.3 ('base')",
   "language": "python",
   "name": "python3"
  },
  "language_info": {
   "codemirror_mode": {
    "name": "ipython",
    "version": 3
   },
   "file_extension": ".py",
   "mimetype": "text/x-python",
   "name": "python",
   "nbconvert_exporter": "python",
   "pygments_lexer": "ipython3",
   "version": "3.7.3"
  },
  "orig_nbformat": 4
 },
 "nbformat": 4,
 "nbformat_minor": 2
}
